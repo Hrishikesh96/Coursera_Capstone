{
    "cells": [
        {
            "cell_type": "markdown",
            "metadata": {
                "collapsed": true
            },
            "source": "# The Battle of Neighborhoods : A location recommendation for opening up a new Vegan Restaurant in Bengaluru city"
        },
        {
            "cell_type": "markdown",
            "metadata": {},
            "source": "This notebook contains 2 sections :\n\n1. Introduction/Business Problem\n2. Data Anatomization"
        },
        {
            "cell_type": "markdown",
            "metadata": {},
            "source": "## Introduction"
        },
        {
            "cell_type": "markdown",
            "metadata": {},
            "source": "The restaurants have been a most profitable now a days. To mention specifically, the metropolitan city like Bengaluru always makes a top place when it comes to breakfast items like Idly, Dosa etc. A Bengalurian is always aware of the crowd at restaurants for morning coffee at 6. So, a Vegetarian restaurant makes a good sound about profitable business. "
        },
        {
            "cell_type": "markdown",
            "metadata": {},
            "source": "## Business Problem"
        },
        {
            "cell_type": "markdown",
            "metadata": {},
            "source": "A person is wishing to open a new Vegetarian Restaurant in Bengaluru city and is in a confusion on which is the right place to invest so it would be a profitable business for him. Now, when we speak about the good place to start, it is known that the city is already having many such restaurants and in that locality the estimation of profit would not be as expected. So, the best way to resolve this issue is by looking for a location/neighborhood that has less similar cuisines."
        },
        {
            "cell_type": "markdown",
            "metadata": {},
            "source": "## Data Anatomization"
        },
        {
            "cell_type": "markdown",
            "metadata": {},
            "source": "To tackle the above-mentioned problem, we need to have the dataset that contains\n1.\tAll the neighbourhoods of Bengaluru city.\n2.\tLatitude and longitudes of all the neighbourhoods in city.\n\nThe page   https://en.wikipedia.org/wiki/Category:Neighbourhoods_in_Bangalore is the major source of data that is being used to obtain the neighbourhoods of Bengaluru. We then use beautifulsoup4 package, a Python module that helps to scrape information from the web pages to extract all the tables from this Wikipedia page and convert it into a pandas data frame. Then the data is cleaned by removing the unwanted cells and then we use Python\u2019s geopy package to obtain the latitude and longitude of all the neighbourhoods present in the data frame. The obtained coordinates are then merged with the main data frame with list comprehension operation. \n\nOnce the coordinates are obtained, we use Foursquare API to extract the venues using client credentials along with the version, radius and limit values and to cluster them based on preferences we use kmeans clustering. We also use folium map to display the clusters geographically.\n"
        },
        {
            "cell_type": "markdown",
            "metadata": {},
            "source": "#### Importing required libraries and modules"
        },
        {
            "cell_type": "code",
            "execution_count": 1,
            "metadata": {},
            "outputs": [
                {
                    "name": "stdout",
                    "output_type": "stream",
                    "text": "Successfully imported libraries!\n"
                }
            ],
            "source": "import numpy as np\n\n\nimport pandas as pd\npd.set_option('display.max_columns', None)\npd.set_option('display.max_rows', None)\n\nfrom bs4 import BeautifulSoup # this module helps in web scrapping.\n\n\nimport json # library to handle JSON files\n\n#!conda install -c conda-forge geopy --yes \nfrom geopy.geocoders import Nominatim # convert an address into latitude and longitude values\n\n#!pip install geocoder\nimport geocoder\n\nimport requests  # this module helps us to download a web page\n\nfrom pandas.io.json import json_normalize # tranform JSON file into a pandas dataframe\n\n# Matplotlib and associated plotting modules\nimport matplotlib.cm as cm\nimport matplotlib.colors as colors\n#!conda install -c conda-forge folium=0.5.0 --yes \nimport folium\n\n# import k-means from clustering stage\nfrom sklearn.cluster import KMeans\n\n\n\nprint(\"Successfully imported libraries!\")"
        },
        {
            "cell_type": "markdown",
            "metadata": {},
            "source": "#### Web Scraping using BeautifulSoup to extract the data from wiki page"
        },
        {
            "cell_type": "code",
            "execution_count": 2,
            "metadata": {},
            "outputs": [],
            "source": "url = \"https://en.wikipedia.org/wiki/Category:Neighbourhoods_in_Bangalore\"\ndata = requests.get(url).text"
        },
        {
            "cell_type": "code",
            "execution_count": 3,
            "metadata": {},
            "outputs": [],
            "source": "#create a soup object of the class BeautifulSoup\n\nsoup = BeautifulSoup(data, 'html5lib')"
        },
        {
            "cell_type": "code",
            "execution_count": 4,
            "metadata": {},
            "outputs": [],
            "source": "# create a list to store neighborhood data\nneighborhoodList = []"
        },
        {
            "cell_type": "code",
            "execution_count": 5,
            "metadata": {},
            "outputs": [],
            "source": "# append the data into the list\nfor row in soup.find_all(\"div\", class_=\"mw-category\")[0].findAll(\"li\"):\n    neighborhoodList.append(row.text)"
        },
        {
            "cell_type": "code",
            "execution_count": 6,
            "metadata": {
                "scrolled": true
            },
            "outputs": [
                {
                    "data": {
                        "text/html": "<div>\n<style scoped>\n    .dataframe tbody tr th:only-of-type {\n        vertical-align: middle;\n    }\n\n    .dataframe tbody tr th {\n        vertical-align: top;\n    }\n\n    .dataframe thead th {\n        text-align: right;\n    }\n</style>\n<table border=\"1\" class=\"dataframe\">\n  <thead>\n    <tr style=\"text-align: right;\">\n      <th></th>\n      <th>Neighborhood</th>\n    </tr>\n  </thead>\n  <tbody>\n    <tr>\n      <th>0</th>\n      <td>List of areas in Bangalore Cantonment</td>\n    </tr>\n    <tr>\n      <th>1</th>\n      <td>List of areas in Bengaluru Pete</td>\n    </tr>\n    <tr>\n      <th>2</th>\n      <td>List of neighbourhoods in Bangalore</td>\n    </tr>\n    <tr>\n      <th>3</th>\n      <td>Adugodi</td>\n    </tr>\n    <tr>\n      <th>4</th>\n      <td>Agara, Bangalore</td>\n    </tr>\n    <tr>\n      <th>5</th>\n      <td>Ananthnagar</td>\n    </tr>\n    <tr>\n      <th>6</th>\n      <td>Anjanapura</td>\n    </tr>\n    <tr>\n      <th>7</th>\n      <td>Arekere</td>\n    </tr>\n    <tr>\n      <th>8</th>\n      <td>Austin Town</td>\n    </tr>\n    <tr>\n      <th>9</th>\n      <td>Babusapalya</td>\n    </tr>\n  </tbody>\n</table>\n</div>",
                        "text/plain": "                            Neighborhood\n0  List of areas in Bangalore Cantonment\n1        List of areas in Bengaluru Pete\n2    List of neighbourhoods in Bangalore\n3                                Adugodi\n4                       Agara, Bangalore\n5                            Ananthnagar\n6                             Anjanapura\n7                                Arekere\n8                            Austin Town\n9                            Babusapalya"
                    },
                    "execution_count": 6,
                    "metadata": {},
                    "output_type": "execute_result"
                }
            ],
            "source": "# create a new DataFrame from the list\ndf_blr = pd.DataFrame({\"Neighborhood\": neighborhoodList})\ndf_blr.head(10)"
        },
        {
            "cell_type": "markdown",
            "metadata": {},
            "source": "#### Cleaning the data frame by removing unwanted data from cells"
        },
        {
            "cell_type": "code",
            "execution_count": 7,
            "metadata": {},
            "outputs": [],
            "source": "#cleaning the data by removing top 3 rows as they are not supposed to be our dataset's part and then resetting the index, a fresh data is obtained\ndf_blr.drop(df_blr.index[:3],inplace=True)\ndf_blr=df_blr.reset_index()\ndel df_blr['index']"
        },
        {
            "cell_type": "code",
            "execution_count": 8,
            "metadata": {
                "scrolled": true
            },
            "outputs": [
                {
                    "data": {
                        "text/html": "<div>\n<style scoped>\n    .dataframe tbody tr th:only-of-type {\n        vertical-align: middle;\n    }\n\n    .dataframe tbody tr th {\n        vertical-align: top;\n    }\n\n    .dataframe thead th {\n        text-align: right;\n    }\n</style>\n<table border=\"1\" class=\"dataframe\">\n  <thead>\n    <tr style=\"text-align: right;\">\n      <th></th>\n      <th>Neighborhood</th>\n    </tr>\n  </thead>\n  <tbody>\n    <tr>\n      <th>0</th>\n      <td>Adugodi</td>\n    </tr>\n    <tr>\n      <th>1</th>\n      <td>Agara, Bangalore</td>\n    </tr>\n    <tr>\n      <th>2</th>\n      <td>Ananthnagar</td>\n    </tr>\n    <tr>\n      <th>3</th>\n      <td>Anjanapura</td>\n    </tr>\n    <tr>\n      <th>4</th>\n      <td>Arekere</td>\n    </tr>\n    <tr>\n      <th>5</th>\n      <td>Austin Town</td>\n    </tr>\n    <tr>\n      <th>6</th>\n      <td>Babusapalya</td>\n    </tr>\n    <tr>\n      <th>7</th>\n      <td>Bagalur, Bangalore Urban</td>\n    </tr>\n    <tr>\n      <th>8</th>\n      <td>Bahubalinagar</td>\n    </tr>\n    <tr>\n      <th>9</th>\n      <td>Baiyyappanahalli</td>\n    </tr>\n  </tbody>\n</table>\n</div>",
                        "text/plain": "               Neighborhood\n0                   Adugodi\n1          Agara, Bangalore\n2               Ananthnagar\n3                Anjanapura\n4                   Arekere\n5               Austin Town\n6               Babusapalya\n7  Bagalur, Bangalore Urban\n8             Bahubalinagar\n9          Baiyyappanahalli"
                    },
                    "execution_count": 8,
                    "metadata": {},
                    "output_type": "execute_result"
                }
            ],
            "source": "df_blr.head(10)"
        },
        {
            "cell_type": "markdown",
            "metadata": {},
            "source": "#### The total neighborhoods in Bengaluru"
        },
        {
            "cell_type": "code",
            "execution_count": 9,
            "metadata": {},
            "outputs": [
                {
                    "name": "stdout",
                    "output_type": "stream",
                    "text": "The total number of neighborhoods in Bangalore is 140\n"
                }
            ],
            "source": "#the total neighborhoods \nprint(\"The total number of neighborhoods in Bangalore is {}\".format(df_blr.shape[0]))"
        },
        {
            "cell_type": "code",
            "execution_count": null,
            "metadata": {},
            "outputs": [],
            "source": ""
        }
    ],
    "metadata": {
        "kernelspec": {
            "display_name": "Python 3.7",
            "language": "python",
            "name": "python3"
        },
        "language_info": {
            "codemirror_mode": {
                "name": "ipython",
                "version": 3
            },
            "file_extension": ".py",
            "mimetype": "text/x-python",
            "name": "python",
            "nbconvert_exporter": "python",
            "pygments_lexer": "ipython3",
            "version": "3.7.10"
        }
    },
    "nbformat": 4,
    "nbformat_minor": 1
}